{
 "cells": [
  {
   "cell_type": "code",
   "execution_count": 1,
   "metadata": {},
   "outputs": [],
   "source": [
    "import numpy as np\n",
    "import os\n",
    "\n",
    "%matplotlib inline\n",
    "import matplotlib\n",
    "import matplotlib.pyplot as plt\n",
    "\n",
    "import time"
   ]
  },
  {
   "cell_type": "code",
   "execution_count": 3,
   "metadata": {},
   "outputs": [],
   "source": [
    "import tensorflow as tf"
   ]
  },
  {
   "cell_type": "code",
   "execution_count": 2,
   "metadata": {},
   "outputs": [],
   "source": [
    "def reset_graph(seed_=42):\n",
    "    tf.reset_default_graph()\n",
    "    tf.set_random_seed(seed_)\n",
    "    np.random.seed(seed_)"
   ]
  },
  {
   "cell_type": "code",
   "execution_count": 21,
   "metadata": {},
   "outputs": [],
   "source": [
    "reset_graph()\n",
    "\n",
    "x = tf.Variable(3, name = 'x')\n",
    "y = tf.Variable(4, name = 'y')\n",
    "a = tf.constant(2, name = 'a')"
   ]
  },
  {
   "cell_type": "code",
   "execution_count": 22,
   "metadata": {
    "tags": []
   },
   "outputs": [
    {
     "output_type": "stream",
     "name": "stdout",
     "text": "True\nTrue\nTrue\n"
    }
   ],
   "source": [
    "print(x.graph is tf.get_default_graph())\n",
    "print(y.graph is tf.get_default_graph())\n",
    "print(a.graph is tf.get_default_graph())"
   ]
  },
  {
   "cell_type": "code",
   "execution_count": 23,
   "metadata": {
    "tags": []
   },
   "outputs": [
    {
     "output_type": "stream",
     "name": "stdout",
     "text": "True\nFalse\n"
    }
   ],
   "source": [
    "graph = tf.Graph()\n",
    "with graph.as_default():\n",
    "    x2 = tf.Variable(2)\n",
    "\n",
    "print(x2.graph is graph)\n",
    "print(x2.graph is tf.get_default_graph())"
   ]
  },
  {
   "cell_type": "code",
   "execution_count": 24,
   "metadata": {},
   "outputs": [
    {
     "output_type": "execute_result",
     "data": {
      "text/plain": "(<tf.Variable 'x:0' shape=() dtype=int32_ref>,\n <tf.Variable 'y:0' shape=() dtype=int32_ref>,\n <tf.Tensor 'a:0' shape=() dtype=int32>)"
     },
     "metadata": {},
     "execution_count": 24
    }
   ],
   "source": [
    "x, y, a"
   ]
  },
  {
   "cell_type": "code",
   "execution_count": 25,
   "metadata": {},
   "outputs": [],
   "source": [
    "f = x*x*y + y + a"
   ]
  },
  {
   "cell_type": "code",
   "execution_count": 26,
   "metadata": {},
   "outputs": [
    {
     "output_type": "execute_result",
     "data": {
      "text/plain": "<tf.Tensor 'add_1:0' shape=() dtype=int32>"
     },
     "metadata": {},
     "execution_count": 26
    }
   ],
   "source": [
    "f"
   ]
  },
  {
   "cell_type": "code",
   "execution_count": 27,
   "metadata": {
    "tags": []
   },
   "outputs": [
    {
     "output_type": "stream",
     "name": "stdout",
     "text": "a = 2\nresult = 42\n"
    }
   ],
   "source": [
    "sess = tf.Session()\n",
    "sess.run(x.initializer)\n",
    "sess.run(y.initializer)\n",
    "result = sess.run(f)\n",
    "a_val = a.eval(session=sess)\n",
    "print('a =', a_val)\n",
    "print('result =', result)\n",
    "sess.close()"
   ]
  },
  {
   "cell_type": "code",
   "execution_count": 28,
   "metadata": {
    "tags": []
   },
   "outputs": [
    {
     "output_type": "stream",
     "name": "stdout",
     "text": "a = 2\nresult = 42\n"
    }
   ],
   "source": [
    "with tf.Session() as sess:\n",
    "    x.initializer.run()\n",
    "    y.initializer.run()\n",
    "    result = f.eval()\n",
    "    a_val = a.eval()\n",
    "\n",
    "print('a =', a_val)\n",
    "print('result =', result)"
   ]
  },
  {
   "cell_type": "code",
   "execution_count": 30,
   "metadata": {
    "tags": []
   },
   "outputs": [
    {
     "output_type": "stream",
     "name": "stdout",
     "text": "42\n"
    }
   ],
   "source": [
    "init = tf.global_variables_initializer()\n",
    "\n",
    "with tf.Session() as sess:\n",
    "    init.run()\n",
    "    result = f.eval()\n",
    "\n",
    "print(result)"
   ]
  },
  {
   "cell_type": "code",
   "execution_count": 31,
   "metadata": {},
   "outputs": [
    {
     "output_type": "execute_result",
     "data": {
      "text/plain": "<tf.Operation 'init_1' type=NoOp>"
     },
     "metadata": {},
     "execution_count": 31
    }
   ],
   "source": [
    "init"
   ]
  },
  {
   "cell_type": "code",
   "execution_count": 33,
   "metadata": {
    "tags": []
   },
   "outputs": [
    {
     "output_type": "stream",
     "name": "stdout",
     "text": "10\n15\n"
    }
   ],
   "source": [
    "w = tf.constant(3)\n",
    "x = w + 2\n",
    "y = x + 5\n",
    "z = x * 3\n",
    "\n",
    "with tf.Session() as sess:\n",
    "    print(y.eval())\n",
    "    print(z.eval())"
   ]
  },
  {
   "cell_type": "code",
   "execution_count": 34,
   "metadata": {},
   "outputs": [
    {
     "output_type": "execute_result",
     "data": {
      "text/plain": "<tf.Tensor 'add_5:0' shape=() dtype=int32>"
     },
     "metadata": {},
     "execution_count": 34
    }
   ],
   "source": [
    "x"
   ]
  },
  {
   "cell_type": "code",
   "execution_count": 35,
   "metadata": {
    "tags": []
   },
   "outputs": [
    {
     "output_type": "stream",
     "name": "stdout",
     "text": "10\n15\n"
    }
   ],
   "source": [
    "with tf.Session() as sess:\n",
    "    y_val, z_val = sess.run([y, z])\n",
    "    print(y_val)\n",
    "    print(z_val)"
   ]
  },
  {
   "cell_type": "markdown",
   "metadata": {},
   "source": [
    "Definig a composite function f(w) = exp( w20 + w21 * exp( w10 + w11 * exp( w00 + w01*x ) ) )"
   ]
  },
  {
   "cell_type": "code",
   "execution_count": 37,
   "metadata": {},
   "outputs": [],
   "source": [
    "def my_func(w, x):\n",
    "    f_0 = tf.exp(w[0, 0] + w[0, 1]*x)\n",
    "    f_1 = tf.exp(w[1, 0] + w[1, 1]*f_0)\n",
    "    f_2 = tf.exp(w[2, 0] + w[2, 1]*f_1)\n",
    "\n",
    "    return f_2, f_1, f_0"
   ]
  },
  {
   "cell_type": "code",
   "execution_count": 38,
   "metadata": {},
   "outputs": [],
   "source": [
    "w_0 = np.vstack( ( np.zeros(3), np.ones(3) ) ).T"
   ]
  },
  {
   "cell_type": "code",
   "execution_count": 39,
   "metadata": {},
   "outputs": [
    {
     "output_type": "execute_result",
     "data": {
      "text/plain": "array([[0., 1.],\n       [0., 1.],\n       [0., 1.]])"
     },
     "metadata": {},
     "execution_count": 39
    }
   ],
   "source": [
    "w_0"
   ]
  },
  {
   "cell_type": "code",
   "execution_count": 42,
   "metadata": {},
   "outputs": [
    {
     "output_type": "execute_result",
     "data": {
      "text/plain": "[<tf.Tensor 'gradients/AddN:0' shape=(3, 2) dtype=float32>]"
     },
     "metadata": {},
     "execution_count": 42
    }
   ],
   "source": [
    "reset_graph()\n",
    "\n",
    "w = tf.Variable(w_0, name='w', dtype=tf.float32)\n",
    "x = tf.Variable(1.0, name='x', dtype=tf.float32, trainable=False)\n",
    "\n",
    "f_2, f_1, f_0 = my_func(w, x)\n",
    "grads = tf.gradients(f_2, w)\n",
    "\n",
    "grads"
   ]
  },
  {
   "cell_type": "code",
   "execution_count": 68,
   "metadata": {
    "tags": []
   },
   "outputs": [
    {
     "output_type": "stream",
     "name": "stdout",
     "text": "0.026084 sec\n[3814273.0, 15.154261, 2.7182817]\n[array([[1.5712344e+08, 1.5712344e+08],\n       [5.7802488e+07, 1.5712344e+08],\n       [3.8142730e+06, 5.7802488e+07]], dtype=float32)]\n"
    }
   ],
   "source": [
    "init = tf.global_variables_initializer()\n",
    "\n",
    "t_0 =time.time()\n",
    "\n",
    "with tf.Session() as sess:\n",
    "    sess.run(init)\n",
    "    gradients, function_vals = sess.run([grads, [f_2, f_1, f_0]])\n",
    "\n",
    "print('%f sec' % (time.time()-t_0))\n",
    "print(function_vals)\n",
    "print(gradients)"
   ]
  },
  {
   "cell_type": "code",
   "execution_count": 69,
   "metadata": {},
   "outputs": [
    {
     "output_type": "execute_result",
     "data": {
      "text/plain": "(<tf.Tensor 'Exp_5:0' shape=() dtype=float32>,\n <tf.Tensor 'Exp_4:0' shape=() dtype=float32>,\n <tf.Tensor 'Exp_3:0' shape=() dtype=float32>)"
     },
     "metadata": {},
     "execution_count": 69
    }
   ],
   "source": [
    "my_func(w_0, x)"
   ]
  },
  {
   "cell_type": "code",
   "execution_count": null,
   "metadata": {},
   "outputs": [],
   "source": []
  }
 ],
 "metadata": {
  "language_info": {
   "codemirror_mode": {
    "name": "ipython",
    "version": 3
   },
   "file_extension": ".py",
   "mimetype": "text/x-python",
   "name": "python",
   "nbconvert_exporter": "python",
   "pygments_lexer": "ipython3",
   "version": 3
  },
  "orig_nbformat": 2,
  "kernelspec": {
   "name": "python_defaultSpec_1594966023181",
   "display_name": "Python 3.7.6 64-bit ('base': conda)"
  }
 },
 "nbformat": 4,
 "nbformat_minor": 2
}