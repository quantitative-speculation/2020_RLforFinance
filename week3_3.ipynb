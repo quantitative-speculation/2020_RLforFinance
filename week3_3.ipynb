{
 "cells": [
  {
   "cell_type": "code",
   "execution_count": 1,
   "metadata": {},
   "outputs": [],
   "source": [
    "import os\n",
    "import numpy as np\n",
    "import math as m\n",
    "\n",
    "import matplotlib as plt\n",
    "%matplotlib inline\n",
    "\n",
    "from mpl_toolkits.mplot3d import Axes3D\n",
    "\n",
    "import pandas as pd\n",
    "\n",
    "import tensorflow as tf"
   ]
  },
  {
   "cell_type": "code",
   "execution_count": 2,
   "metadata": {},
   "outputs": [],
   "source": [
    "def reset_graph(seed_=42):\n",
    "    tf.reset_default_graph()\n",
    "    tf.set_random_seed(seed_)\n",
    "    np.random.seed(seed_)"
   ]
  },
  {
   "cell_type": "code",
   "execution_count": 3,
   "metadata": {},
   "outputs": [],
   "source": [
    "n_points_ = 5000\n",
    "n_features_ = 3\n",
    "\n",
    "bias_ = np.ones(n_points_).reshape((-1, 1))\n",
    "low_ = - np.ones(( n_points_, n_features_ ), 'float')\n",
    "high_ = np.ones(( n_points_, n_features_ ), 'float')  \n",
    "\n",
    "X = np.random.uniform(low=low_, high=high_)\n",
    "\n",
    "noise = np.random.normal(size=( n_points_, 1 ))\n",
    "\n",
    "weights = np.array([1.0, 0.5, 0.2, 0.1])\n",
    "noise_std = 0.1\n",
    "Y = weights[0]*bias_ + np.dot(X, weights[1:]).reshape((-1, 1)) + noise_std*noise\n",
    "\n",
    "train_test_split = 4\n",
    "\n",
    "n_test = int(n_points_/train_test_split)\n",
    "n_train = n_points_ - n_test\n",
    "\n",
    "X_train = X[:n_train, :]\n",
    "X_test = X[n_train:, :]\n",
    "Y_train = Y[:n_train].reshape((-1, 1))\n",
    "Y_test = Y[n_train:].reshape((-1, 1))"
   ]
  },
  {
   "cell_type": "code",
   "execution_count": 4,
   "metadata": {},
   "outputs": [
    {
     "output_type": "execute_result",
     "data": {
      "text/plain": "((3750, 3), (3750, 1), (1250, 3), (1250, 1))"
     },
     "metadata": {},
     "execution_count": 4
    }
   ],
   "source": [
    "X_train.shape, Y_train.shape, X_test.shape, Y_test.shape"
   ]
  },
  {
   "cell_type": "code",
   "execution_count": 5,
   "metadata": {
    "tags": []
   },
   "outputs": [
    {
     "output_type": "stream",
     "name": "stdout",
     "text": "[[ 1.          0.36904826  0.37777863  0.28495882]\n [ 1.          0.36266934  0.76433974 -0.64673973]\n [ 1.         -0.89243952 -0.32370441 -0.74121926]\n ...\n [ 1.         -0.71771615 -0.48795524 -0.64065911]\n [ 1.         -0.65040521 -0.93415451  0.94940226]\n [ 1.         -0.75535286 -0.59400173 -0.06627896]]\n3750\n"
    },
    {
     "output_type": "execute_result",
     "data": {
      "text/plain": "array([[0.99840536],\n       [0.50105529],\n       [0.19850041],\n       [0.09932483]])"
     },
     "metadata": {},
     "execution_count": 5
    }
   ],
   "source": [
    "## Linear Regression with Numpy\n",
    "\n",
    "X = np.hstack( (np.ones( n_train ).reshape((-1, 1)), X_train ) )\n",
    "print(X)\n",
    "print(len(X))\n",
    "theta_numpy = np.linalg.inv(X.T.dot(X)).dot(X.T).dot(Y_train)\n",
    "theta_numpy"
   ]
  },
  {
   "cell_type": "code",
   "execution_count": 6,
   "metadata": {
    "tags": []
   },
   "outputs": [
    {
     "output_type": "stream",
     "name": "stdout",
     "text": "[[0.99840536]\n [0.50105529]\n [0.19850041]\n [0.09932483]]\n"
    }
   ],
   "source": [
    "## Linear Regression with Sklearn\n",
    "\n",
    "from sklearn.linear_model import LinearRegression\n",
    "lin_reg = LinearRegression()\n",
    "lin_reg.fit(X_train, Y_train)\n",
    "\n",
    "print(np.r_[lin_reg.intercept_.reshape(-1, 1), lin_reg.coef_.T])"
   ]
  },
  {
   "cell_type": "code",
   "execution_count": 7,
   "metadata": {},
   "outputs": [],
   "source": [
    "## Linear Regression with Tensorflow\n",
    "\n",
    "X_np = np.hstack((np.ones(n_train).reshape((-1, 1)), X_train))\n",
    "\n",
    "X = tf.constant(X_np, dtype=tf.float32, name='X')\n",
    "Y = tf.constant(Y_train, dtype=tf.float32, name='Y')\n",
    "XT = tf.transpose(X)\n",
    "theta = tf.matmul(tf.matmul(tf.matrix_inverse(tf.matmul(XT, X)), XT), Y)\n",
    "\n",
    "with tf.Session() as sess:\n",
    "    theta_value = theta.eval()"
   ]
  },
  {
   "cell_type": "code",
   "execution_count": 8,
   "metadata": {},
   "outputs": [
    {
     "output_type": "execute_result",
     "data": {
      "text/plain": "array([[0.9984055 ],\n       [0.5010552 ],\n       [0.1985004 ],\n       [0.09932482]], dtype=float32)"
     },
     "metadata": {},
     "execution_count": 8
    }
   ],
   "source": [
    "theta_value"
   ]
  },
  {
   "cell_type": "code",
   "execution_count": 9,
   "metadata": {},
   "outputs": [
    {
     "output_type": "error",
     "ename": "SyntaxError",
     "evalue": "unexpected EOF while parsing (<ipython-input-9-19e266c19ba8>, line 4)",
     "traceback": [
      "\u001b[1;36m  File \u001b[1;32m\"<ipython-input-9-19e266c19ba8>\"\u001b[1;36m, line \u001b[1;32m4\u001b[0m\n\u001b[1;33m    \u001b[0m\n\u001b[1;37m    ^\u001b[0m\n\u001b[1;31mSyntaxError\u001b[0m\u001b[1;31m:\u001b[0m unexpected EOF while parsing\n"
     ]
    }
   ],
   "source": [
    "class Model:\n",
    "\n",
    "    def __init__(self, n_features_, learning_rate_=0.05, L_=0):\n",
    "        "
   ]
  }
 ],
 "metadata": {
  "language_info": {
   "codemirror_mode": {
    "name": "ipython",
    "version": 3
   },
   "file_extension": ".py",
   "mimetype": "text/x-python",
   "name": "python",
   "nbconvert_exporter": "python",
   "pygments_lexer": "ipython3",
   "version": "3.7.6-final"
  },
  "orig_nbformat": 2,
  "kernelspec": {
   "name": "python3",
   "display_name": "Python 3"
  }
 },
 "nbformat": 4,
 "nbformat_minor": 2
}